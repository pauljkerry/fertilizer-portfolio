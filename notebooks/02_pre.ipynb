{
 "cells": [
  {
   "cell_type": "code",
   "execution_count": 1,
   "id": "3a59544c-289a-4a3e-a76a-e12246170436",
   "metadata": {},
   "outputs": [],
   "source": [
    "import pandas as pd\n",
    "import sys, os\n",
    "\n",
    "sys.path.append(os.path.abspath(\"..\"))\n",
    "\n",
    "import src.pipeline.fe_gbdt_v4 as fe4"
   ]
  },
  {
   "cell_type": "code",
   "execution_count": 2,
   "id": "de38c1cf-6455-40bf-960b-02b1139bcc13",
   "metadata": {},
   "outputs": [],
   "source": [
    "# 前処理データの読み込み\n",
    "train_data = pd.read_csv(\"../artifacts/prepro/train_data.csv\")\n",
    "test_data = pd.read_csv(\"../artifacts/prepro/test_data.csv\")"
   ]
  },
  {
   "cell_type": "code",
   "execution_count": 3,
   "id": "590ff6e3-bfb4-443d-a957-7529d9b2a9c1",
   "metadata": {},
   "outputs": [],
   "source": [
    "# original dataとconst追加\n",
    "tr_df, test_df = fe4.feature_engineering(train_data, test_data)\n",
    "\n",
    "tr_df.to_csv(\"../artifacts/features/tr_df4.csv\", index=False)\n",
    "test_df.to_csv(\"../artifacts/features/test_df4.csv\", index=False)"
   ]
  }
 ],
 "metadata": {
  "kernelspec": {
   "display_name": "Python [conda env:base] *",
   "language": "python",
   "name": "conda-base-py"
  },
  "language_info": {
   "codemirror_mode": {
    "name": "ipython",
    "version": 3
   },
   "file_extension": ".py",
   "mimetype": "text/x-python",
   "name": "python",
   "nbconvert_exporter": "python",
   "pygments_lexer": "ipython3",
   "version": "3.13.5"
  }
 },
 "nbformat": 4,
 "nbformat_minor": 5
}
